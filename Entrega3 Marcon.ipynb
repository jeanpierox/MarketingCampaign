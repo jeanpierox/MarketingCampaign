{
 "cells": [
  {
   "cell_type": "markdown",
   "id": "bd8941e0",
   "metadata": {},
   "source": [
    "![Ontario Market](LogoOntarioMarket.png)\n",
    "\n",
    "# Ontario Market - Segunda Entrega del Proyecto"
   ]
  },
  {
   "cell_type": "markdown",
   "id": "9f0934b8",
   "metadata": {},
   "source": [
    "El análisis de los clientes ayuda a modificar un producto en función a los diferentes segmentos de ellos. Por ejemplo, desarrollar estrategias de ventas enfocadas a los clientes de mayor potencial, y con productos especificos.\n",
    "\n",
    "En la siguiente sección, iremos a través de un proyecto de ciencia de datos sobre el análisis de la personalidad del cliente con python. Aqui usaremos un conjunto de datos recopilados de una campaña de marketing, donde nuestra tarea es predecir cómo responderán los diferentes segmentos de clientes para un producto o servicio en particular."
   ]
  },
  {
   "cell_type": "markdown",
   "id": "2953d2bb",
   "metadata": {},
   "source": [
    "### Diccionario de Variables\n",
    "#### People\n",
    "1. ID: Customer's unique identifier\n",
    "1. Year_Birth: Customer's birth year\n",
    "1. Education: Customer's education level\n",
    "1. Marital_Status: Customer's marital status\n",
    "1. Income: Customer's yearly household income\n",
    "1. Kidhome: Number of children in customer's household\n",
    "1. Teenhome: Number of teenagers in customer's household\n",
    "1. Dt_Customer: Date of customer's enrollment with the company\n",
    "1. Recency: Number of days since customer's last purchase\n",
    "1. Complain: 1 if the customer complained in the last 2 years, 0 otherwise\n",
    "#### Products\n",
    "1. MntWines: Amount spent on wine in last 2 years\n",
    "1. MntFruits: Amount spent on fruits in last 2 years\n",
    "1. MntMeatProducts: Amount spent on meat in last 2 years\n",
    "1. MntFishProducts: Amount spent on fish in last 2 years\n",
    "1. MntSweetProducts: Amount spent on sweets in last 2 years\n",
    "1. MntGoldProds: Amount spent on gold in last 2 years\n",
    "#### Promotion\n",
    "1. NumDealsPurchases: Number of purchases made with a discount\n",
    "1. AcceptedCmp1: 1 if customer accepted the offer in the 1st campaign, 0 otherwise\n",
    "1. AcceptedCmp2: 1 if customer accepted the offer in the 2nd campaign, 0 otherwise\n",
    "1. AcceptedCmp3: 1 if customer accepted the offer in the 3rd campaign, 0 otherwise\n",
    "1. AcceptedCmp4: 1 if customer accepted the offer in the 4th campaign, 0 otherwise\n",
    "1. AcceptedCmp5: 1 if customer accepted the offer in the 5th campaign, 0 otherwise\n",
    "1. Response: 1 if customer accepted the offer in the last campaign, 0 otherwise\n",
    "#### Place\n",
    "1. NumWebPurchases: Number of purchases made through the company’s website\n",
    "1. NumCatalogPurchases: Number of purchases made using a catalogue\n",
    "1. NumStorePurchases: Number of purchases made directly in stores\n",
    "1. NumWebVisitsMonth: Number of visits to company’s website in the last month"
   ]
  },
  {
   "cell_type": "markdown",
   "id": "1fbeddb2",
   "metadata": {},
   "source": [
    "### Pasos de este estudio\n",
    "1. Indicación de la fuente del dataset\n",
    "1. Carga de datos\n",
    "1. Exploración de datos\n",
    "1. Procesamiento de datos\n",
    "1. Análisis exploratorio de datos\n",
    "1. Preparación de datos\n",
    "1. Selección, entrenamiento y evaluación del modelo"
   ]
  },
  {
   "cell_type": "markdown",
   "id": "6aede2b3",
   "metadata": {},
   "source": [
    "# Análisis de Datos"
   ]
  },
  {
   "cell_type": "markdown",
   "id": "62445102",
   "metadata": {},
   "source": [
    "## 1. Fuente del dataset\n",
    "https://raw.githubusercontent.com/amankharwal/Website-data/master/marketing_campaign.csv"
   ]
  },
  {
   "cell_type": "markdown",
   "id": "a7891642",
   "metadata": {},
   "source": [
    "## 2. Carga de Datos"
   ]
  },
  {
   "cell_type": "code",
   "execution_count": 1,
   "id": "d0ec3e54",
   "metadata": {},
   "outputs": [],
   "source": [
    "#Importar librerias\n",
    "import numpy as np\n",
    "from numpy import mean\n",
    "from numpy import std\n",
    "import pandas as pd\n",
    "import matplotlib.pyplot as plt\n",
    "import seaborn as sns\n",
    "from sklearn.model_selection import train_test_split\n",
    "from sklearn.model_selection import KFold\n",
    "from sklearn.model_selection import cross_val_score\n",
    "from sklearn.tree import DecisionTreeClassifier\n",
    "from sklearn.ensemble import RandomForestClassifier\n",
    "from sklearn.neighbors import KNeighborsClassifier\n",
    "from sklearn.linear_model import LogisticRegression\n",
    "from sklearn.svm import SVC\n",
    "from sklearn import metrics\n",
    "from sklearn.metrics import accuracy_score\n",
    "from sklearn.metrics import confusion_matrix\n",
    "\n",
    "import warnings\n",
    "warnings.filterwarnings(action='ignore')"
   ]
  },
  {
   "cell_type": "code",
   "execution_count": 2,
   "id": "6611e49e",
   "metadata": {},
   "outputs": [
    {
     "data": {
      "text/html": [
       "<div>\n",
       "<style scoped>\n",
       "    .dataframe tbody tr th:only-of-type {\n",
       "        vertical-align: middle;\n",
       "    }\n",
       "\n",
       "    .dataframe tbody tr th {\n",
       "        vertical-align: top;\n",
       "    }\n",
       "\n",
       "    .dataframe thead th {\n",
       "        text-align: right;\n",
       "    }\n",
       "</style>\n",
       "<table border=\"1\" class=\"dataframe\">\n",
       "  <thead>\n",
       "    <tr style=\"text-align: right;\">\n",
       "      <th></th>\n",
       "      <th>ID</th>\n",
       "      <th>Year_Birth</th>\n",
       "      <th>Education</th>\n",
       "      <th>Marital_Status</th>\n",
       "      <th>Income</th>\n",
       "      <th>Kidhome</th>\n",
       "      <th>Teenhome</th>\n",
       "      <th>Dt_Customer</th>\n",
       "      <th>Recency</th>\n",
       "      <th>MntWines</th>\n",
       "      <th>...</th>\n",
       "      <th>NumWebVisitsMonth</th>\n",
       "      <th>AcceptedCmp3</th>\n",
       "      <th>AcceptedCmp4</th>\n",
       "      <th>AcceptedCmp5</th>\n",
       "      <th>AcceptedCmp1</th>\n",
       "      <th>AcceptedCmp2</th>\n",
       "      <th>Complain</th>\n",
       "      <th>Z_CostContact</th>\n",
       "      <th>Z_Revenue</th>\n",
       "      <th>Response</th>\n",
       "    </tr>\n",
       "  </thead>\n",
       "  <tbody>\n",
       "    <tr>\n",
       "      <th>0</th>\n",
       "      <td>5524</td>\n",
       "      <td>1957</td>\n",
       "      <td>Graduation</td>\n",
       "      <td>Single</td>\n",
       "      <td>58138.0</td>\n",
       "      <td>0</td>\n",
       "      <td>0</td>\n",
       "      <td>04-09-2012</td>\n",
       "      <td>58</td>\n",
       "      <td>635</td>\n",
       "      <td>...</td>\n",
       "      <td>7</td>\n",
       "      <td>0</td>\n",
       "      <td>0</td>\n",
       "      <td>0</td>\n",
       "      <td>0</td>\n",
       "      <td>0</td>\n",
       "      <td>0</td>\n",
       "      <td>3</td>\n",
       "      <td>11</td>\n",
       "      <td>1</td>\n",
       "    </tr>\n",
       "    <tr>\n",
       "      <th>1</th>\n",
       "      <td>2174</td>\n",
       "      <td>1954</td>\n",
       "      <td>Graduation</td>\n",
       "      <td>Single</td>\n",
       "      <td>46344.0</td>\n",
       "      <td>1</td>\n",
       "      <td>1</td>\n",
       "      <td>08-03-2014</td>\n",
       "      <td>38</td>\n",
       "      <td>11</td>\n",
       "      <td>...</td>\n",
       "      <td>5</td>\n",
       "      <td>0</td>\n",
       "      <td>0</td>\n",
       "      <td>0</td>\n",
       "      <td>0</td>\n",
       "      <td>0</td>\n",
       "      <td>0</td>\n",
       "      <td>3</td>\n",
       "      <td>11</td>\n",
       "      <td>0</td>\n",
       "    </tr>\n",
       "    <tr>\n",
       "      <th>2</th>\n",
       "      <td>4141</td>\n",
       "      <td>1965</td>\n",
       "      <td>Graduation</td>\n",
       "      <td>Together</td>\n",
       "      <td>71613.0</td>\n",
       "      <td>0</td>\n",
       "      <td>0</td>\n",
       "      <td>21-08-2013</td>\n",
       "      <td>26</td>\n",
       "      <td>426</td>\n",
       "      <td>...</td>\n",
       "      <td>4</td>\n",
       "      <td>0</td>\n",
       "      <td>0</td>\n",
       "      <td>0</td>\n",
       "      <td>0</td>\n",
       "      <td>0</td>\n",
       "      <td>0</td>\n",
       "      <td>3</td>\n",
       "      <td>11</td>\n",
       "      <td>0</td>\n",
       "    </tr>\n",
       "    <tr>\n",
       "      <th>3</th>\n",
       "      <td>6182</td>\n",
       "      <td>1984</td>\n",
       "      <td>Graduation</td>\n",
       "      <td>Together</td>\n",
       "      <td>26646.0</td>\n",
       "      <td>1</td>\n",
       "      <td>0</td>\n",
       "      <td>10-02-2014</td>\n",
       "      <td>26</td>\n",
       "      <td>11</td>\n",
       "      <td>...</td>\n",
       "      <td>6</td>\n",
       "      <td>0</td>\n",
       "      <td>0</td>\n",
       "      <td>0</td>\n",
       "      <td>0</td>\n",
       "      <td>0</td>\n",
       "      <td>0</td>\n",
       "      <td>3</td>\n",
       "      <td>11</td>\n",
       "      <td>0</td>\n",
       "    </tr>\n",
       "    <tr>\n",
       "      <th>4</th>\n",
       "      <td>5324</td>\n",
       "      <td>1981</td>\n",
       "      <td>PhD</td>\n",
       "      <td>Married</td>\n",
       "      <td>58293.0</td>\n",
       "      <td>1</td>\n",
       "      <td>0</td>\n",
       "      <td>19-01-2014</td>\n",
       "      <td>94</td>\n",
       "      <td>173</td>\n",
       "      <td>...</td>\n",
       "      <td>5</td>\n",
       "      <td>0</td>\n",
       "      <td>0</td>\n",
       "      <td>0</td>\n",
       "      <td>0</td>\n",
       "      <td>0</td>\n",
       "      <td>0</td>\n",
       "      <td>3</td>\n",
       "      <td>11</td>\n",
       "      <td>0</td>\n",
       "    </tr>\n",
       "  </tbody>\n",
       "</table>\n",
       "<p>5 rows × 29 columns</p>\n",
       "</div>"
      ],
      "text/plain": [
       "     ID  Year_Birth   Education Marital_Status   Income  Kidhome  Teenhome  \\\n",
       "0  5524        1957  Graduation         Single  58138.0        0         0   \n",
       "1  2174        1954  Graduation         Single  46344.0        1         1   \n",
       "2  4141        1965  Graduation       Together  71613.0        0         0   \n",
       "3  6182        1984  Graduation       Together  26646.0        1         0   \n",
       "4  5324        1981         PhD        Married  58293.0        1         0   \n",
       "\n",
       "  Dt_Customer  Recency  MntWines  ...  NumWebVisitsMonth  AcceptedCmp3  \\\n",
       "0  04-09-2012       58       635  ...                  7             0   \n",
       "1  08-03-2014       38        11  ...                  5             0   \n",
       "2  21-08-2013       26       426  ...                  4             0   \n",
       "3  10-02-2014       26        11  ...                  6             0   \n",
       "4  19-01-2014       94       173  ...                  5             0   \n",
       "\n",
       "   AcceptedCmp4  AcceptedCmp5  AcceptedCmp1  AcceptedCmp2  Complain  \\\n",
       "0             0             0             0             0         0   \n",
       "1             0             0             0             0         0   \n",
       "2             0             0             0             0         0   \n",
       "3             0             0             0             0         0   \n",
       "4             0             0             0             0         0   \n",
       "\n",
       "   Z_CostContact  Z_Revenue  Response  \n",
       "0              3         11         1  \n",
       "1              3         11         0  \n",
       "2              3         11         0  \n",
       "3              3         11         0  \n",
       "4              3         11         0  \n",
       "\n",
       "[5 rows x 29 columns]"
      ]
     },
     "execution_count": 2,
     "metadata": {},
     "output_type": "execute_result"
    }
   ],
   "source": [
    "#Lectura de datos\n",
    "data = pd.read_csv('marketing_campaign.csv', sep='\\t')\n",
    "data.head()"
   ]
  },
  {
   "cell_type": "markdown",
   "id": "cf9fe6c4",
   "metadata": {},
   "source": [
    "## 3. Exploración de Datos"
   ]
  },
  {
   "cell_type": "code",
   "execution_count": 3,
   "id": "a12d0b78",
   "metadata": {},
   "outputs": [
    {
     "name": "stdout",
     "output_type": "stream",
     "text": [
      "Este data set tiene 2240 filas, y 29 columnas\n"
     ]
    }
   ],
   "source": [
    "#Dimensiones del dataset\n",
    "print(f'Este data set tiene {str(data.shape[0])} filas, y {str(data.shape[1])} columnas')"
   ]
  },
  {
   "cell_type": "code",
   "execution_count": 4,
   "id": "142832ce",
   "metadata": {},
   "outputs": [
    {
     "data": {
      "text/plain": [
       "Index(['ID', 'Year_Birth', 'Education', 'Marital_Status', 'Income', 'Kidhome',\n",
       "       'Teenhome', 'Dt_Customer', 'Recency', 'MntWines', 'MntFruits',\n",
       "       'MntMeatProducts', 'MntFishProducts', 'MntSweetProducts',\n",
       "       'MntGoldProds', 'NumDealsPurchases', 'NumWebPurchases',\n",
       "       'NumCatalogPurchases', 'NumStorePurchases', 'NumWebVisitsMonth',\n",
       "       'AcceptedCmp3', 'AcceptedCmp4', 'AcceptedCmp5', 'AcceptedCmp1',\n",
       "       'AcceptedCmp2', 'Complain', 'Z_CostContact', 'Z_Revenue', 'Response'],\n",
       "      dtype='object')"
      ]
     },
     "execution_count": 4,
     "metadata": {},
     "output_type": "execute_result"
    }
   ],
   "source": [
    "#Columnas del dataset\n",
    "data.columns"
   ]
  },
  {
   "cell_type": "code",
   "execution_count": 5,
   "id": "c6e60fc8",
   "metadata": {},
   "outputs": [
    {
     "name": "stdout",
     "output_type": "stream",
     "text": [
      "<class 'pandas.core.frame.DataFrame'>\n",
      "RangeIndex: 2240 entries, 0 to 2239\n",
      "Data columns (total 29 columns):\n",
      " #   Column               Non-Null Count  Dtype  \n",
      "---  ------               --------------  -----  \n",
      " 0   ID                   2240 non-null   int64  \n",
      " 1   Year_Birth           2240 non-null   int64  \n",
      " 2   Education            2240 non-null   object \n",
      " 3   Marital_Status       2240 non-null   object \n",
      " 4   Income               2216 non-null   float64\n",
      " 5   Kidhome              2240 non-null   int64  \n",
      " 6   Teenhome             2240 non-null   int64  \n",
      " 7   Dt_Customer          2240 non-null   object \n",
      " 8   Recency              2240 non-null   int64  \n",
      " 9   MntWines             2240 non-null   int64  \n",
      " 10  MntFruits            2240 non-null   int64  \n",
      " 11  MntMeatProducts      2240 non-null   int64  \n",
      " 12  MntFishProducts      2240 non-null   int64  \n",
      " 13  MntSweetProducts     2240 non-null   int64  \n",
      " 14  MntGoldProds         2240 non-null   int64  \n",
      " 15  NumDealsPurchases    2240 non-null   int64  \n",
      " 16  NumWebPurchases      2240 non-null   int64  \n",
      " 17  NumCatalogPurchases  2240 non-null   int64  \n",
      " 18  NumStorePurchases    2240 non-null   int64  \n",
      " 19  NumWebVisitsMonth    2240 non-null   int64  \n",
      " 20  AcceptedCmp3         2240 non-null   int64  \n",
      " 21  AcceptedCmp4         2240 non-null   int64  \n",
      " 22  AcceptedCmp5         2240 non-null   int64  \n",
      " 23  AcceptedCmp1         2240 non-null   int64  \n",
      " 24  AcceptedCmp2         2240 non-null   int64  \n",
      " 25  Complain             2240 non-null   int64  \n",
      " 26  Z_CostContact        2240 non-null   int64  \n",
      " 27  Z_Revenue            2240 non-null   int64  \n",
      " 28  Response             2240 non-null   int64  \n",
      "dtypes: float64(1), int64(25), object(3)\n",
      "memory usage: 507.6+ KB\n"
     ]
    }
   ],
   "source": [
    "#Tipo de datos y cantidad de No Nulos por columna\n",
    "data.info()"
   ]
  },
  {
   "cell_type": "code",
   "execution_count": 6,
   "id": "e42838e5",
   "metadata": {},
   "outputs": [
    {
     "data": {
      "text/html": [
       "<div>\n",
       "<style scoped>\n",
       "    .dataframe tbody tr th:only-of-type {\n",
       "        vertical-align: middle;\n",
       "    }\n",
       "\n",
       "    .dataframe tbody tr th {\n",
       "        vertical-align: top;\n",
       "    }\n",
       "\n",
       "    .dataframe thead th {\n",
       "        text-align: right;\n",
       "    }\n",
       "</style>\n",
       "<table border=\"1\" class=\"dataframe\">\n",
       "  <thead>\n",
       "    <tr style=\"text-align: right;\">\n",
       "      <th></th>\n",
       "      <th>count</th>\n",
       "      <th>mean</th>\n",
       "      <th>std</th>\n",
       "      <th>min</th>\n",
       "      <th>25%</th>\n",
       "      <th>50%</th>\n",
       "      <th>75%</th>\n",
       "      <th>max</th>\n",
       "    </tr>\n",
       "  </thead>\n",
       "  <tbody>\n",
       "    <tr>\n",
       "      <th>ID</th>\n",
       "      <td>2240.0</td>\n",
       "      <td>5592.2</td>\n",
       "      <td>3246.7</td>\n",
       "      <td>0.0</td>\n",
       "      <td>2828.2</td>\n",
       "      <td>5458.5</td>\n",
       "      <td>8427.8</td>\n",
       "      <td>11191.0</td>\n",
       "    </tr>\n",
       "    <tr>\n",
       "      <th>Year_Birth</th>\n",
       "      <td>2240.0</td>\n",
       "      <td>1968.8</td>\n",
       "      <td>12.0</td>\n",
       "      <td>1893.0</td>\n",
       "      <td>1959.0</td>\n",
       "      <td>1970.0</td>\n",
       "      <td>1977.0</td>\n",
       "      <td>1996.0</td>\n",
       "    </tr>\n",
       "    <tr>\n",
       "      <th>Income</th>\n",
       "      <td>2216.0</td>\n",
       "      <td>52247.3</td>\n",
       "      <td>25173.1</td>\n",
       "      <td>1730.0</td>\n",
       "      <td>35303.0</td>\n",
       "      <td>51381.5</td>\n",
       "      <td>68522.0</td>\n",
       "      <td>666666.0</td>\n",
       "    </tr>\n",
       "    <tr>\n",
       "      <th>Kidhome</th>\n",
       "      <td>2240.0</td>\n",
       "      <td>0.4</td>\n",
       "      <td>0.5</td>\n",
       "      <td>0.0</td>\n",
       "      <td>0.0</td>\n",
       "      <td>0.0</td>\n",
       "      <td>1.0</td>\n",
       "      <td>2.0</td>\n",
       "    </tr>\n",
       "    <tr>\n",
       "      <th>Teenhome</th>\n",
       "      <td>2240.0</td>\n",
       "      <td>0.5</td>\n",
       "      <td>0.5</td>\n",
       "      <td>0.0</td>\n",
       "      <td>0.0</td>\n",
       "      <td>0.0</td>\n",
       "      <td>1.0</td>\n",
       "      <td>2.0</td>\n",
       "    </tr>\n",
       "    <tr>\n",
       "      <th>Recency</th>\n",
       "      <td>2240.0</td>\n",
       "      <td>49.1</td>\n",
       "      <td>29.0</td>\n",
       "      <td>0.0</td>\n",
       "      <td>24.0</td>\n",
       "      <td>49.0</td>\n",
       "      <td>74.0</td>\n",
       "      <td>99.0</td>\n",
       "    </tr>\n",
       "    <tr>\n",
       "      <th>MntWines</th>\n",
       "      <td>2240.0</td>\n",
       "      <td>303.9</td>\n",
       "      <td>336.6</td>\n",
       "      <td>0.0</td>\n",
       "      <td>23.8</td>\n",
       "      <td>173.5</td>\n",
       "      <td>504.2</td>\n",
       "      <td>1493.0</td>\n",
       "    </tr>\n",
       "    <tr>\n",
       "      <th>MntFruits</th>\n",
       "      <td>2240.0</td>\n",
       "      <td>26.3</td>\n",
       "      <td>39.8</td>\n",
       "      <td>0.0</td>\n",
       "      <td>1.0</td>\n",
       "      <td>8.0</td>\n",
       "      <td>33.0</td>\n",
       "      <td>199.0</td>\n",
       "    </tr>\n",
       "    <tr>\n",
       "      <th>MntMeatProducts</th>\n",
       "      <td>2240.0</td>\n",
       "      <td>167.0</td>\n",
       "      <td>225.7</td>\n",
       "      <td>0.0</td>\n",
       "      <td>16.0</td>\n",
       "      <td>67.0</td>\n",
       "      <td>232.0</td>\n",
       "      <td>1725.0</td>\n",
       "    </tr>\n",
       "    <tr>\n",
       "      <th>MntFishProducts</th>\n",
       "      <td>2240.0</td>\n",
       "      <td>37.5</td>\n",
       "      <td>54.6</td>\n",
       "      <td>0.0</td>\n",
       "      <td>3.0</td>\n",
       "      <td>12.0</td>\n",
       "      <td>50.0</td>\n",
       "      <td>259.0</td>\n",
       "    </tr>\n",
       "    <tr>\n",
       "      <th>MntSweetProducts</th>\n",
       "      <td>2240.0</td>\n",
       "      <td>27.1</td>\n",
       "      <td>41.3</td>\n",
       "      <td>0.0</td>\n",
       "      <td>1.0</td>\n",
       "      <td>8.0</td>\n",
       "      <td>33.0</td>\n",
       "      <td>263.0</td>\n",
       "    </tr>\n",
       "    <tr>\n",
       "      <th>MntGoldProds</th>\n",
       "      <td>2240.0</td>\n",
       "      <td>44.0</td>\n",
       "      <td>52.2</td>\n",
       "      <td>0.0</td>\n",
       "      <td>9.0</td>\n",
       "      <td>24.0</td>\n",
       "      <td>56.0</td>\n",
       "      <td>362.0</td>\n",
       "    </tr>\n",
       "    <tr>\n",
       "      <th>NumDealsPurchases</th>\n",
       "      <td>2240.0</td>\n",
       "      <td>2.3</td>\n",
       "      <td>1.9</td>\n",
       "      <td>0.0</td>\n",
       "      <td>1.0</td>\n",
       "      <td>2.0</td>\n",
       "      <td>3.0</td>\n",
       "      <td>15.0</td>\n",
       "    </tr>\n",
       "    <tr>\n",
       "      <th>NumWebPurchases</th>\n",
       "      <td>2240.0</td>\n",
       "      <td>4.1</td>\n",
       "      <td>2.8</td>\n",
       "      <td>0.0</td>\n",
       "      <td>2.0</td>\n",
       "      <td>4.0</td>\n",
       "      <td>6.0</td>\n",
       "      <td>27.0</td>\n",
       "    </tr>\n",
       "    <tr>\n",
       "      <th>NumCatalogPurchases</th>\n",
       "      <td>2240.0</td>\n",
       "      <td>2.7</td>\n",
       "      <td>2.9</td>\n",
       "      <td>0.0</td>\n",
       "      <td>0.0</td>\n",
       "      <td>2.0</td>\n",
       "      <td>4.0</td>\n",
       "      <td>28.0</td>\n",
       "    </tr>\n",
       "    <tr>\n",
       "      <th>NumStorePurchases</th>\n",
       "      <td>2240.0</td>\n",
       "      <td>5.8</td>\n",
       "      <td>3.3</td>\n",
       "      <td>0.0</td>\n",
       "      <td>3.0</td>\n",
       "      <td>5.0</td>\n",
       "      <td>8.0</td>\n",
       "      <td>13.0</td>\n",
       "    </tr>\n",
       "    <tr>\n",
       "      <th>NumWebVisitsMonth</th>\n",
       "      <td>2240.0</td>\n",
       "      <td>5.3</td>\n",
       "      <td>2.4</td>\n",
       "      <td>0.0</td>\n",
       "      <td>3.0</td>\n",
       "      <td>6.0</td>\n",
       "      <td>7.0</td>\n",
       "      <td>20.0</td>\n",
       "    </tr>\n",
       "    <tr>\n",
       "      <th>AcceptedCmp3</th>\n",
       "      <td>2240.0</td>\n",
       "      <td>0.1</td>\n",
       "      <td>0.3</td>\n",
       "      <td>0.0</td>\n",
       "      <td>0.0</td>\n",
       "      <td>0.0</td>\n",
       "      <td>0.0</td>\n",
       "      <td>1.0</td>\n",
       "    </tr>\n",
       "    <tr>\n",
       "      <th>AcceptedCmp4</th>\n",
       "      <td>2240.0</td>\n",
       "      <td>0.1</td>\n",
       "      <td>0.3</td>\n",
       "      <td>0.0</td>\n",
       "      <td>0.0</td>\n",
       "      <td>0.0</td>\n",
       "      <td>0.0</td>\n",
       "      <td>1.0</td>\n",
       "    </tr>\n",
       "    <tr>\n",
       "      <th>AcceptedCmp5</th>\n",
       "      <td>2240.0</td>\n",
       "      <td>0.1</td>\n",
       "      <td>0.3</td>\n",
       "      <td>0.0</td>\n",
       "      <td>0.0</td>\n",
       "      <td>0.0</td>\n",
       "      <td>0.0</td>\n",
       "      <td>1.0</td>\n",
       "    </tr>\n",
       "    <tr>\n",
       "      <th>AcceptedCmp1</th>\n",
       "      <td>2240.0</td>\n",
       "      <td>0.1</td>\n",
       "      <td>0.2</td>\n",
       "      <td>0.0</td>\n",
       "      <td>0.0</td>\n",
       "      <td>0.0</td>\n",
       "      <td>0.0</td>\n",
       "      <td>1.0</td>\n",
       "    </tr>\n",
       "    <tr>\n",
       "      <th>AcceptedCmp2</th>\n",
       "      <td>2240.0</td>\n",
       "      <td>0.0</td>\n",
       "      <td>0.1</td>\n",
       "      <td>0.0</td>\n",
       "      <td>0.0</td>\n",
       "      <td>0.0</td>\n",
       "      <td>0.0</td>\n",
       "      <td>1.0</td>\n",
       "    </tr>\n",
       "    <tr>\n",
       "      <th>Complain</th>\n",
       "      <td>2240.0</td>\n",
       "      <td>0.0</td>\n",
       "      <td>0.1</td>\n",
       "      <td>0.0</td>\n",
       "      <td>0.0</td>\n",
       "      <td>0.0</td>\n",
       "      <td>0.0</td>\n",
       "      <td>1.0</td>\n",
       "    </tr>\n",
       "    <tr>\n",
       "      <th>Z_CostContact</th>\n",
       "      <td>2240.0</td>\n",
       "      <td>3.0</td>\n",
       "      <td>0.0</td>\n",
       "      <td>3.0</td>\n",
       "      <td>3.0</td>\n",
       "      <td>3.0</td>\n",
       "      <td>3.0</td>\n",
       "      <td>3.0</td>\n",
       "    </tr>\n",
       "    <tr>\n",
       "      <th>Z_Revenue</th>\n",
       "      <td>2240.0</td>\n",
       "      <td>11.0</td>\n",
       "      <td>0.0</td>\n",
       "      <td>11.0</td>\n",
       "      <td>11.0</td>\n",
       "      <td>11.0</td>\n",
       "      <td>11.0</td>\n",
       "      <td>11.0</td>\n",
       "    </tr>\n",
       "    <tr>\n",
       "      <th>Response</th>\n",
       "      <td>2240.0</td>\n",
       "      <td>0.1</td>\n",
       "      <td>0.4</td>\n",
       "      <td>0.0</td>\n",
       "      <td>0.0</td>\n",
       "      <td>0.0</td>\n",
       "      <td>0.0</td>\n",
       "      <td>1.0</td>\n",
       "    </tr>\n",
       "  </tbody>\n",
       "</table>\n",
       "</div>"
      ],
      "text/plain": [
       "                      count     mean      std     min      25%      50%  \\\n",
       "ID                   2240.0   5592.2   3246.7     0.0   2828.2   5458.5   \n",
       "Year_Birth           2240.0   1968.8     12.0  1893.0   1959.0   1970.0   \n",
       "Income               2216.0  52247.3  25173.1  1730.0  35303.0  51381.5   \n",
       "Kidhome              2240.0      0.4      0.5     0.0      0.0      0.0   \n",
       "Teenhome             2240.0      0.5      0.5     0.0      0.0      0.0   \n",
       "Recency              2240.0     49.1     29.0     0.0     24.0     49.0   \n",
       "MntWines             2240.0    303.9    336.6     0.0     23.8    173.5   \n",
       "MntFruits            2240.0     26.3     39.8     0.0      1.0      8.0   \n",
       "MntMeatProducts      2240.0    167.0    225.7     0.0     16.0     67.0   \n",
       "MntFishProducts      2240.0     37.5     54.6     0.0      3.0     12.0   \n",
       "MntSweetProducts     2240.0     27.1     41.3     0.0      1.0      8.0   \n",
       "MntGoldProds         2240.0     44.0     52.2     0.0      9.0     24.0   \n",
       "NumDealsPurchases    2240.0      2.3      1.9     0.0      1.0      2.0   \n",
       "NumWebPurchases      2240.0      4.1      2.8     0.0      2.0      4.0   \n",
       "NumCatalogPurchases  2240.0      2.7      2.9     0.0      0.0      2.0   \n",
       "NumStorePurchases    2240.0      5.8      3.3     0.0      3.0      5.0   \n",
       "NumWebVisitsMonth    2240.0      5.3      2.4     0.0      3.0      6.0   \n",
       "AcceptedCmp3         2240.0      0.1      0.3     0.0      0.0      0.0   \n",
       "AcceptedCmp4         2240.0      0.1      0.3     0.0      0.0      0.0   \n",
       "AcceptedCmp5         2240.0      0.1      0.3     0.0      0.0      0.0   \n",
       "AcceptedCmp1         2240.0      0.1      0.2     0.0      0.0      0.0   \n",
       "AcceptedCmp2         2240.0      0.0      0.1     0.0      0.0      0.0   \n",
       "Complain             2240.0      0.0      0.1     0.0      0.0      0.0   \n",
       "Z_CostContact        2240.0      3.0      0.0     3.0      3.0      3.0   \n",
       "Z_Revenue            2240.0     11.0      0.0    11.0     11.0     11.0   \n",
       "Response             2240.0      0.1      0.4     0.0      0.0      0.0   \n",
       "\n",
       "                         75%       max  \n",
       "ID                    8427.8   11191.0  \n",
       "Year_Birth            1977.0    1996.0  \n",
       "Income               68522.0  666666.0  \n",
       "Kidhome                  1.0       2.0  \n",
       "Teenhome                 1.0       2.0  \n",
       "Recency                 74.0      99.0  \n",
       "MntWines               504.2    1493.0  \n",
       "MntFruits               33.0     199.0  \n",
       "MntMeatProducts        232.0    1725.0  \n",
       "MntFishProducts         50.0     259.0  \n",
       "MntSweetProducts        33.0     263.0  \n",
       "MntGoldProds            56.0     362.0  \n",
       "NumDealsPurchases        3.0      15.0  \n",
       "NumWebPurchases          6.0      27.0  \n",
       "NumCatalogPurchases      4.0      28.0  \n",
       "NumStorePurchases        8.0      13.0  \n",
       "NumWebVisitsMonth        7.0      20.0  \n",
       "AcceptedCmp3             0.0       1.0  \n",
       "AcceptedCmp4             0.0       1.0  \n",
       "AcceptedCmp5             0.0       1.0  \n",
       "AcceptedCmp1             0.0       1.0  \n",
       "AcceptedCmp2             0.0       1.0  \n",
       "Complain                 0.0       1.0  \n",
       "Z_CostContact            3.0       3.0  \n",
       "Z_Revenue               11.0      11.0  \n",
       "Response                 0.0       1.0  "
      ]
     },
     "execution_count": 6,
     "metadata": {},
     "output_type": "execute_result"
    }
   ],
   "source": [
    "#Distribución de las variables numericas\n",
    "data.describe().round(1).T"
   ]
  },
  {
   "cell_type": "code",
   "execution_count": 7,
   "id": "e1a20561",
   "metadata": {},
   "outputs": [
    {
     "data": {
      "text/html": [
       "<div>\n",
       "<style scoped>\n",
       "    .dataframe tbody tr th:only-of-type {\n",
       "        vertical-align: middle;\n",
       "    }\n",
       "\n",
       "    .dataframe tbody tr th {\n",
       "        vertical-align: top;\n",
       "    }\n",
       "\n",
       "    .dataframe thead th {\n",
       "        text-align: right;\n",
       "    }\n",
       "</style>\n",
       "<table border=\"1\" class=\"dataframe\">\n",
       "  <thead>\n",
       "    <tr style=\"text-align: right;\">\n",
       "      <th></th>\n",
       "      <th>count</th>\n",
       "      <th>unique</th>\n",
       "      <th>top</th>\n",
       "      <th>freq</th>\n",
       "    </tr>\n",
       "  </thead>\n",
       "  <tbody>\n",
       "    <tr>\n",
       "      <th>Education</th>\n",
       "      <td>2240</td>\n",
       "      <td>5</td>\n",
       "      <td>Graduation</td>\n",
       "      <td>1127</td>\n",
       "    </tr>\n",
       "    <tr>\n",
       "      <th>Marital_Status</th>\n",
       "      <td>2240</td>\n",
       "      <td>8</td>\n",
       "      <td>Married</td>\n",
       "      <td>864</td>\n",
       "    </tr>\n",
       "    <tr>\n",
       "      <th>Dt_Customer</th>\n",
       "      <td>2240</td>\n",
       "      <td>663</td>\n",
       "      <td>31-08-2012</td>\n",
       "      <td>12</td>\n",
       "    </tr>\n",
       "  </tbody>\n",
       "</table>\n",
       "</div>"
      ],
      "text/plain": [
       "               count unique         top  freq\n",
       "Education       2240      5  Graduation  1127\n",
       "Marital_Status  2240      8     Married   864\n",
       "Dt_Customer     2240    663  31-08-2012    12"
      ]
     },
     "execution_count": 7,
     "metadata": {},
     "output_type": "execute_result"
    }
   ],
   "source": [
    "#Distribución de las variables categóricas\n",
    "data.describe(include=['O']).T"
   ]
  },
  {
   "cell_type": "code",
   "execution_count": 8,
   "id": "6f3cbb9f",
   "metadata": {},
   "outputs": [
    {
     "data": {
      "image/png": "[encoded data removed]",
      "text/plain": [
       "<Figure size 1080x432 with 2 Axes>"
      ]
     },
     "metadata": {
      "needs_background": "light"
     },
     "output_type": "display_data"
    }
   ],
   "source": [
    "#Gráfica tipo 'box' para detección de outliers\n",
    "fig, ax = plt.subplots(2, figsize=(15, 6))\n",
    "sns.boxplot(data.Income, notch ='True', ax=ax[0])\n",
    "sns.boxplot(data.Year_Birth, notch ='True', ax=ax[1])\n",
    "plt.subplots_adjust(hspace=0.5)\n",
    "plt.show()"
   ]
  },
  {
   "cell_type": "markdown",
   "id": "4b880beb",
   "metadata": {},
   "source": [
    "## 4. Procesamiento de datos"
   ]
  },
  {
   "cell_type": "code",
   "execution_count": 9,
   "id": "d05d68f5",
   "metadata": {},
   "outputs": [],
   "source": [
    "#Fijar la columna \"ID\" como index del dataframe\n",
    "data = data.set_index('ID')"
   ]
  },
  {
   "cell_type": "code",
   "execution_count": 10,
   "id": "bc95664a",
   "metadata": {},
   "outputs": [],
   "source": [
    "#Se considera eliminar los datos faltantes en la columna \"Income\", por ser solamente 24 entradas, 1% del dataset.\n",
    "data = data.dropna()"
   ]
  },
  {
   "cell_type": "code",
   "execution_count": 11,
   "id": "c450c74e",
   "metadata": {},
   "outputs": [],
   "source": [
    "#Eliminación de columnas\n",
    "data.drop(columns = ['Z_CostContact','Z_Revenue'], inplace=True)"
   ]
  },
  {
   "cell_type": "code",
   "execution_count": 12,
   "id": "3758222c",
   "metadata": {},
   "outputs": [],
   "source": [
    "#Calcular columna de edad \"Age\", a la fecha del Dataset\n",
    "data['Age'] = 2014 - data.Year_Birth\n",
    "data = data.drop(['Year_Birth'], axis=1)"
   ]
  },
  {
   "cell_type": "code",
   "execution_count": 13,
   "id": "0253d196",
   "metadata": {},
   "outputs": [],
   "source": [
    "#Eliminación de outliers\n",
    "data = data[data.Income < 200000] #'Income' outlier (ID=9432)\n",
    "data = data[data.Age < 90] #'Age' outlier (ID = 1150,7829,11004)"
   ]
  },
  {
   "cell_type": "code",
   "execution_count": 14,
   "id": "6a746459",
   "metadata": {},
   "outputs": [],
   "source": [
    "#Calcular columna de gastos total\n",
    "data['TotalSpent'] = data.MntWines + data.MntFruits + data.MntMeatProducts + data.MntFishProducts + data.MntSweetProducts + data.MntGoldProds"
   ]
  },
  {
   "cell_type": "code",
   "execution_count": 15,
   "id": "f39a403e",
   "metadata": {},
   "outputs": [],
   "source": [
    "#Convertir a datetime la columna \"Dt_Customer\".\n",
    "data.Dt_Customer = pd.to_datetime(data.Dt_Customer, format=\"%d-%m-%Y\")"
   ]
  },
  {
   "cell_type": "code",
   "execution_count": 16,
   "id": "8daed9ca",
   "metadata": {},
   "outputs": [],
   "source": [
    "#Simplificar \"Education\" y normalizar variables.\n",
    "data.Education = data.Education.replace({'Basic':'Not Graduated','2n Cycle':'Not Graduated','Graduation':'Graduated','Master':'Graduated','PhD':'Graduated'}).map({'Not Graduated': 0, 'Graduated': 1}).astype(int)"
   ]
  },
  {
   "cell_type": "code",
   "execution_count": 17,
   "id": "781385f5",
   "metadata": {},
   "outputs": [],
   "source": [
    "#Simplificar \"Marital_Status\" y normalizar variables.\n",
    "data.Marital_Status = data.Marital_Status.replace({'Divorced':'Alone','Single':'Alone','Married':'In couple','Together':'In couple','Absurd':'Alone','Widow':'Alone','YOLO':'Alone'}).map({'Alone': 0, 'In couple': 1}).astype(int)"
   ]
  },
  {
   "cell_type": "code",
   "execution_count": 18,
   "id": "4f22e82b",
   "metadata": {},
   "outputs": [],
   "source": [
    "#Renombrar columnas.\n",
    "data = data.rename(columns={'NumWebPurchases': 'Web_Purchases','NumCatalogPurchases':'Catalog_Purchases','NumStorePurchases':'Store_Purchases','MntWines': 'Wines','MntFruits':'Fruits','MntMeatProducts':'Meat','MntFishProducts':'Fish','MntSweetProducts':'Sweets','MntGoldProds':'Gold'})"
   ]
  },
  {
   "cell_type": "markdown",
   "id": "e79fe2c4",
   "metadata": {},
   "source": [
    "## 5. Análisis exploratorio de datos"
   ]
  },
  {
   "cell_type": "code",
   "execution_count": 19,
   "id": "238caed2",
   "metadata": {},
   "outputs": [
    {
     "data": {
      "image/png": "[encoded data removed]",
      "text/plain": [
       "<Figure size 1440x1008 with 2 Axes>"
      ]
     },
     "metadata": {
      "needs_background": "light"
     },
     "output_type": "display_data"
    }
   ],
   "source": [
    "#Matriz de correlación por metodo \"Pearson\"\n",
    "corr = data.corr(method='pearson')\n",
    "mask = np.triu(np.ones_like(corr, dtype=np.bool))\n",
    "\n",
    "plt.figure (figsize = (20, 14))\n",
    "sns.heatmap (corr, annot=True, mask=mask, fmt='.2f')\n",
    "plt.title(\"Matriz de Correlación\", fontsize=18)\n",
    "plt.show()"
   ]
  },
  {
   "cell_type": "code",
   "execution_count": 20,
   "id": "5007fddc",
   "metadata": {},
   "outputs": [
    {
     "data": {
      "text/plain": [
       "TotalSpent         Wines                0.892996\n",
       "Wines              TotalSpent           0.892996\n",
       "Meat               TotalSpent           0.845543\n",
       "TotalSpent         Meat                 0.845543\n",
       "Income             TotalSpent           0.792740\n",
       "TotalSpent         Income               0.792740\n",
       "                   Catalog_Purchases    0.780250\n",
       "Catalog_Purchases  TotalSpent           0.780250\n",
       "Meat               Catalog_Purchases    0.733787\n",
       "Catalog_Purchases  Meat                 0.733787\n",
       "                   Income               0.696589\n",
       "Income             Catalog_Purchases    0.696589\n",
       "Meat               Income               0.692279\n",
       "Income             Meat                 0.692279\n",
       "Wines              Income               0.688209\n",
       "Income             Wines                0.688209\n",
       "TotalSpent         Store_Purchases      0.675981\n",
       "Store_Purchases    TotalSpent           0.675981\n",
       "Income             NumWebVisitsMonth    0.650257\n",
       "NumWebVisitsMonth  Income               0.650257\n",
       "TotalSpent         Fish                 0.641884\n",
       "Fish               TotalSpent           0.641884\n",
       "Wines              Store_Purchases      0.640219\n",
       "Store_Purchases    Wines                0.640219\n",
       "Wines              Catalog_Purchases    0.634237\n",
       "Catalog_Purchases  Wines                0.634237\n",
       "Store_Purchases    Income               0.631424\n",
       "Income             Store_Purchases      0.631424\n",
       "Fruits             TotalSpent           0.612129\n",
       "TotalSpent         Fruits               0.612129\n",
       "Sweets             TotalSpent           0.606652\n",
       "TotalSpent         Sweets               0.606652\n",
       "Fish               Fruits               0.593038\n",
       "Fruits             Fish                 0.593038\n",
       "Sweets             Fish                 0.583484\n",
       "Fish               Sweets               0.583484\n",
       "Meat               Fish                 0.572986\n",
       "Fish               Meat                 0.572986\n",
       "Sweets             Fruits               0.571474\n",
       "dtype: float64"
      ]
     },
     "execution_count": 20,
     "metadata": {},
     "output_type": "execute_result"
    }
   ],
   "source": [
    "corr.abs().unstack().sort_values(ascending = False)[26:65]"
   ]
  },
  {
   "cell_type": "markdown",
   "id": "3902be52",
   "metadata": {},
   "source": [
    "* Clientes con alto ingreso son quienes mas gastan\n",
    "* Los productos \"Meat\" y \"Wine\" son los productos con mas alto costo\n",
    "* Clientes con niños y con bajo ingreso prefieren las compras en ofertas\n",
    "* Las variables \"Complain\" y \"recency\" no estan relacionadas con otras"
   ]
  },
  {
   "cell_type": "markdown",
   "id": "28347640",
   "metadata": {},
   "source": [
    "## 6. Preparación de Datos"
   ]
  },
  {
   "cell_type": "code",
   "execution_count": 21,
   "id": "f7d0d227",
   "metadata": {},
   "outputs": [],
   "source": [
    "#Seleccionar datos a entrenar y datos de salida\n",
    "x = data[['Education', 'Marital_Status', 'Income', 'Kidhome', 'Age', 'TotalSpent', 'Recency']]\n",
    "y = data['Response']\n",
    "\n",
    "# División de datos de entrenamiento y datos de prueba\n",
    "x_train, x_test, y_train, y_test = train_test_split(x, y, test_size=0.25, random_state=42)"
   ]
  },
  {
   "cell_type": "code",
   "execution_count": 22,
   "id": "36788072",
   "metadata": {},
   "outputs": [
    {
     "data": {
      "image/png": "[encoded data removed]",
      "text/plain": [
       "<Figure size 432x288 with 1 Axes>"
      ]
     },
     "metadata": {
      "needs_background": "light"
     },
     "output_type": "display_data"
    }
   ],
   "source": [
    "#Balance del set de entrenamiento\n",
    "y_train.value_counts().plot (kind='bar', title='Count (target)')\n",
    "plt.show()"
   ]
  },
  {
   "cell_type": "markdown",
   "id": "6d3d2d7c",
   "metadata": {},
   "source": [
    "## 7. Entrenamiento de modelos supervisados"
   ]
  },
  {
   "cell_type": "code",
   "execution_count": 23,
   "id": "9807ea06",
   "metadata": {},
   "outputs": [],
   "source": [
    "#Variables de resultados\n",
    "Accuracy_Test=[]\n",
    "Accuracy_Train=[]\n",
    "KFold_Mean=[]\n",
    "KFold_Std=[]"
   ]
  },
  {
   "cell_type": "markdown",
   "id": "94d558d1",
   "metadata": {},
   "source": [
    "### Árboles de decisión"
   ]
  },
  {
   "cell_type": "code",
   "execution_count": 24,
   "id": "44998dec",
   "metadata": {},
   "outputs": [],
   "source": [
    "#Instanciar el modelo\n",
    "tree = DecisionTreeClassifier(max_depth=3)"
   ]
  },
  {
   "cell_type": "code",
   "execution_count": 25,
   "id": "843908da",
   "metadata": {},
   "outputs": [
    {
     "data": {
      "text/plain": [
       "DecisionTreeClassifier(max_depth=3)"
      ]
     },
     "execution_count": 25,
     "metadata": {},
     "output_type": "execute_result"
    }
   ],
   "source": [
    "#Entrenar el modelo\n",
    "tree.fit(x_train,y_train)"
   ]
  },
  {
   "cell_type": "code",
   "execution_count": 26,
   "id": "50223eb8",
   "metadata": {},
   "outputs": [
    {
     "name": "stdout",
     "output_type": "stream",
     "text": [
      "Test accuracy:  0.833634719710669\n"
     ]
    }
   ],
   "source": [
    "#Evaluación del modelo con métrica \"Accuracy\"\n",
    "y_train_pred = tree.predict(x_train)\n",
    "y_test_pred = tree.predict(x_test)\n",
    "\n",
    "train_accuracy = accuracy_score(y_train,y_train_pred)\n",
    "test_accuracy = accuracy_score(y_test,y_test_pred)\n",
    "print('Test accuracy: ', test_accuracy)"
   ]
  },
  {
   "cell_type": "code",
   "execution_count": 27,
   "id": "b838f040",
   "metadata": {},
   "outputs": [
    {
     "name": "stdout",
     "output_type": "stream",
     "text": [
      "Accuracy: 0.850 (0.031)\n"
     ]
    }
   ],
   "source": [
    "#Evaluación del modelo con método de validación cruzada\n",
    "cv = KFold(n_splits=10, random_state=1, shuffle=True)\n",
    "model = DecisionTreeClassifier(max_depth=3)\n",
    "scores = cross_val_score(model, x, y, scoring='accuracy', cv=cv, n_jobs=-1)\n",
    "print('Accuracy: %.3f (%.3f)' % (mean(scores), std(scores)))"
   ]
  },
  {
   "cell_type": "code",
   "execution_count": 28,
   "id": "a099b020",
   "metadata": {},
   "outputs": [],
   "source": [
    "#Agregado al dataframe de comparación\n",
    "Accuracy_Test.append(test_accuracy)\n",
    "Accuracy_Train.append(train_accuracy)\n",
    "KFold_Mean.append(mean(scores))\n",
    "KFold_Std.append(std(scores))"
   ]
  },
  {
   "cell_type": "markdown",
   "id": "d5f6e0d7",
   "metadata": {},
   "source": [
    "### Random Forest"
   ]
  },
  {
   "cell_type": "code",
   "execution_count": 29,
   "id": "e92c447c",
   "metadata": {},
   "outputs": [],
   "source": [
    "#Instanciar el modelo\n",
    "RandForest = RandomForestClassifier()"
   ]
  },
  {
   "cell_type": "code",
   "execution_count": 30,
   "id": "2ee51474",
   "metadata": {},
   "outputs": [
    {
     "data": {
      "text/plain": [
       "RandomForestClassifier()"
      ]
     },
     "execution_count": 30,
     "metadata": {},
     "output_type": "execute_result"
    }
   ],
   "source": [
    "#Entrenar el modelo\n",
    "RandForest.fit(x_train,y_train)"
   ]
  },
  {
   "cell_type": "code",
   "execution_count": 31,
   "id": "85343de7",
   "metadata": {},
   "outputs": [
    {
     "name": "stdout",
     "output_type": "stream",
     "text": [
      "Test accuracy:  0.8390596745027125\n"
     ]
    }
   ],
   "source": [
    "#Evaluación del modelo con métrica \"Accuracy\"\n",
    "y_train_pred = RandForest.predict(x_train)\n",
    "y_test_pred = RandForest.predict(x_test)\n",
    "\n",
    "train_accuracy = accuracy_score(y_train,y_train_pred)\n",
    "test_accuracy = accuracy_score(y_test,y_test_pred)\n",
    "print('Test accuracy: ', test_accuracy)"
   ]
  },
  {
   "cell_type": "code",
   "execution_count": 32,
   "id": "8b38abb4",
   "metadata": {},
   "outputs": [
    {
     "name": "stdout",
     "output_type": "stream",
     "text": [
      "Accuracy: 0.863 (0.031)\n"
     ]
    }
   ],
   "source": [
    "#Evaluación del modelo con método de validación cruzada\n",
    "cv = KFold(n_splits=10, random_state=1, shuffle=True)\n",
    "model = RandomForestClassifier()\n",
    "scores = cross_val_score(model, x, y, scoring='accuracy', cv=cv, n_jobs=-1)\n",
    "print('Accuracy: %.3f (%.3f)' % (mean(scores), std(scores)))"
   ]
  },
  {
   "cell_type": "code",
   "execution_count": 33,
   "id": "f94da3f6",
   "metadata": {},
   "outputs": [],
   "source": [
    "#Agregado al dataframe de comparación\n",
    "Accuracy_Test.append(test_accuracy)\n",
    "Accuracy_Train.append(train_accuracy)\n",
    "KFold_Mean.append(mean(scores))\n",
    "KFold_Std.append(std(scores))"
   ]
  },
  {
   "cell_type": "markdown",
   "id": "816ce39f",
   "metadata": {},
   "source": [
    "### KNN"
   ]
  },
  {
   "cell_type": "code",
   "execution_count": 34,
   "id": "21f72d67",
   "metadata": {},
   "outputs": [],
   "source": [
    "#Instanciar el modelo\n",
    "knn = KNeighborsClassifier()"
   ]
  },
  {
   "cell_type": "code",
   "execution_count": 35,
   "id": "b38d92e0",
   "metadata": {},
   "outputs": [
    {
     "data": {
      "text/plain": [
       "KNeighborsClassifier()"
      ]
     },
     "execution_count": 35,
     "metadata": {},
     "output_type": "execute_result"
    }
   ],
   "source": [
    "#Entrenar el modelo\n",
    "knn.fit(x_train,y_train)"
   ]
  },
  {
   "cell_type": "code",
   "execution_count": 36,
   "id": "28a9ac99",
   "metadata": {},
   "outputs": [
    {
     "name": "stdout",
     "output_type": "stream",
     "text": [
      "Test accuracy:  0.8173598553345389\n"
     ]
    }
   ],
   "source": [
    "#Evaluación del modelo con métrica \"Accuracy\"\n",
    "y_train_pred = knn.predict(x_train)\n",
    "y_test_pred = knn.predict(x_test)\n",
    "\n",
    "train_accuracy = accuracy_score(y_train,y_train_pred)\n",
    "test_accuracy = accuracy_score(y_test,y_test_pred)\n",
    "print('Test accuracy: ', test_accuracy)"
   ]
  },
  {
   "cell_type": "code",
   "execution_count": 37,
   "id": "eb9ad062",
   "metadata": {},
   "outputs": [
    {
     "name": "stdout",
     "output_type": "stream",
     "text": [
      "Accuracy: 0.844 (0.030)\n"
     ]
    }
   ],
   "source": [
    "#Evaluación del modelo con método de validación cruzada\n",
    "cv = KFold(n_splits=10, random_state=1, shuffle=True)\n",
    "model = KNeighborsClassifier()\n",
    "scores = cross_val_score(model, x, y, scoring='accuracy', cv=cv, n_jobs=-1)\n",
    "print('Accuracy: %.3f (%.3f)' % (mean(scores), std(scores)))"
   ]
  },
  {
   "cell_type": "code",
   "execution_count": 38,
   "id": "76d90707",
   "metadata": {},
   "outputs": [],
   "source": [
    "#Agregado al dataframe de comparación\n",
    "Accuracy_Test.append(test_accuracy)\n",
    "Accuracy_Train.append(train_accuracy)\n",
    "KFold_Mean.append(mean(scores))\n",
    "KFold_Std.append(std(scores))"
   ]
  },
  {
   "cell_type": "markdown",
   "id": "08dfd332",
   "metadata": {},
   "source": [
    "### Regresión logística"
   ]
  },
  {
   "cell_type": "code",
   "execution_count": 39,
   "id": "0a57cf57",
   "metadata": {},
   "outputs": [],
   "source": [
    "#Instanciar el modelo\n",
    "LR = LogisticRegression()"
   ]
  },
  {
   "cell_type": "code",
   "execution_count": 40,
   "id": "1d016a6a",
   "metadata": {},
   "outputs": [
    {
     "data": {
      "text/plain": [
       "LogisticRegression()"
      ]
     },
     "execution_count": 40,
     "metadata": {},
     "output_type": "execute_result"
    }
   ],
   "source": [
    "#Entrenar el modelo\n",
    "LR.fit(x_train,y_train)"
   ]
  },
  {
   "cell_type": "code",
   "execution_count": 41,
   "id": "36a859e0",
   "metadata": {},
   "outputs": [
    {
     "name": "stdout",
     "output_type": "stream",
     "text": [
      "Test accuracy:  0.8426763110307414\n"
     ]
    }
   ],
   "source": [
    "#Evaluación del modelo con métrica \"Accuracy\"\n",
    "y_train_pred = LR.predict(x_train)\n",
    "y_test_pred = LR.predict(x_test)\n",
    "\n",
    "train_accuracy = accuracy_score(y_train,y_train_pred)\n",
    "test_accuracy = accuracy_score(y_test,y_test_pred)\n",
    "print('Test accuracy: ', test_accuracy)"
   ]
  },
  {
   "cell_type": "code",
   "execution_count": 42,
   "id": "a3ef1e44",
   "metadata": {},
   "outputs": [
    {
     "name": "stdout",
     "output_type": "stream",
     "text": [
      "Accuracy: 0.858 (0.019)\n"
     ]
    }
   ],
   "source": [
    "#Evaluación del modelo con método de validación cruzada\n",
    "cv = KFold(n_splits=10, random_state=1, shuffle=True)\n",
    "model = LogisticRegression()\n",
    "scores = cross_val_score(model, x, y, scoring='accuracy', cv=cv, n_jobs=-1)\n",
    "print('Accuracy: %.3f (%.3f)' % (mean(scores), std(scores)))"
   ]
  },
  {
   "cell_type": "code",
   "execution_count": 43,
   "id": "943ee115",
   "metadata": {},
   "outputs": [],
   "source": [
    "#Agregado al dataframe de comparación\n",
    "Accuracy_Test.append(test_accuracy)\n",
    "Accuracy_Train.append(train_accuracy)\n",
    "KFold_Mean.append(mean(scores))\n",
    "KFold_Std.append(std(scores))"
   ]
  },
  {
   "cell_type": "markdown",
   "id": "fdb96a26",
   "metadata": {},
   "source": [
    "### Máquina de vector soporte"
   ]
  },
  {
   "cell_type": "code",
   "execution_count": 44,
   "id": "f78469ad",
   "metadata": {},
   "outputs": [],
   "source": [
    "#Instanciar el modelo\n",
    "SVC = SVC(C=10)"
   ]
  },
  {
   "cell_type": "code",
   "execution_count": 45,
   "id": "efa6bc42",
   "metadata": {},
   "outputs": [
    {
     "data": {
      "text/plain": [
       "SVC(C=10)"
      ]
     },
     "execution_count": 45,
     "metadata": {},
     "output_type": "execute_result"
    }
   ],
   "source": [
    "#Entrenar el modelo\n",
    "SVC.fit(x_train,y_train)"
   ]
  },
  {
   "cell_type": "code",
   "execution_count": 46,
   "id": "8131d32d",
   "metadata": {},
   "outputs": [
    {
     "name": "stdout",
     "output_type": "stream",
     "text": [
      "Test accuracy:  0.833634719710669\n"
     ]
    }
   ],
   "source": [
    "#Evaluación del modelo\n",
    "y_train_pred = SVC.predict(x_train)\n",
    "y_test_pred = SVC.predict(x_test)\n",
    "\n",
    "train_accuracy = accuracy_score(y_train,y_train_pred)\n",
    "test_accuracy = accuracy_score(y_test,y_test_pred)\n",
    "print('Test accuracy: ', test_accuracy)"
   ]
  },
  {
   "cell_type": "code",
   "execution_count": 47,
   "id": "32904455",
   "metadata": {},
   "outputs": [
    {
     "name": "stdout",
     "output_type": "stream",
     "text": [
      "Accuracy: 0.810 (0.024)\n"
     ]
    }
   ],
   "source": [
    "#Evaluación del modelo con método de validación cruzada\n",
    "clf = DecisionTreeClassifier(random_state=0)\n",
    "scores = cross_val_score(clf, x, y, cv=10)\n",
    "print('Accuracy: %.3f (%.3f)' % (mean(scores), std(scores)))"
   ]
  },
  {
   "cell_type": "code",
   "execution_count": 48,
   "id": "f9e14abe",
   "metadata": {},
   "outputs": [],
   "source": [
    "#Agregado al dataframe de comparación\n",
    "Accuracy_Test.append(test_accuracy)\n",
    "Accuracy_Train.append(train_accuracy)\n",
    "KFold_Mean.append(mean(scores))\n",
    "KFold_Std.append(std(scores))"
   ]
  },
  {
   "cell_type": "markdown",
   "id": "9048c3cd",
   "metadata": {},
   "source": [
    "### Evaluación de modelos"
   ]
  },
  {
   "cell_type": "code",
   "execution_count": 49,
   "id": "de7cbd9a",
   "metadata": {},
   "outputs": [
    {
     "data": {
      "text/html": [
       "<div>\n",
       "<style scoped>\n",
       "    .dataframe tbody tr th:only-of-type {\n",
       "        vertical-align: middle;\n",
       "    }\n",
       "\n",
       "    .dataframe tbody tr th {\n",
       "        vertical-align: top;\n",
       "    }\n",
       "\n",
       "    .dataframe thead th {\n",
       "        text-align: right;\n",
       "    }\n",
       "</style>\n",
       "<table border=\"1\" class=\"dataframe\">\n",
       "  <thead>\n",
       "    <tr style=\"text-align: right;\">\n",
       "      <th></th>\n",
       "      <th>Accuracy_Test</th>\n",
       "      <th>Accuracy_Train</th>\n",
       "      <th>KFold_Mean</th>\n",
       "      <th>KFold_Std</th>\n",
       "    </tr>\n",
       "  </thead>\n",
       "  <tbody>\n",
       "    <tr>\n",
       "      <th>tree</th>\n",
       "      <td>0.833635</td>\n",
       "      <td>0.870404</td>\n",
       "      <td>0.849888</td>\n",
       "      <td>0.030958</td>\n",
       "    </tr>\n",
       "    <tr>\n",
       "      <th>RF</th>\n",
       "      <td>0.839060</td>\n",
       "      <td>0.992164</td>\n",
       "      <td>0.863454</td>\n",
       "      <td>0.030661</td>\n",
       "    </tr>\n",
       "    <tr>\n",
       "      <th>kNN</th>\n",
       "      <td>0.817360</td>\n",
       "      <td>0.880048</td>\n",
       "      <td>0.844012</td>\n",
       "      <td>0.029678</td>\n",
       "    </tr>\n",
       "    <tr>\n",
       "      <th>LogReg</th>\n",
       "      <td>0.842676</td>\n",
       "      <td>0.852923</td>\n",
       "      <td>0.858489</td>\n",
       "      <td>0.019161</td>\n",
       "    </tr>\n",
       "    <tr>\n",
       "      <th>SVM</th>\n",
       "      <td>0.833635</td>\n",
       "      <td>0.854732</td>\n",
       "      <td>0.809698</td>\n",
       "      <td>0.023668</td>\n",
       "    </tr>\n",
       "  </tbody>\n",
       "</table>\n",
       "</div>"
      ],
      "text/plain": [
       "        Accuracy_Test  Accuracy_Train  KFold_Mean  KFold_Std\n",
       "tree         0.833635        0.870404    0.849888   0.030958\n",
       "RF           0.839060        0.992164    0.863454   0.030661\n",
       "kNN          0.817360        0.880048    0.844012   0.029678\n",
       "LogReg       0.842676        0.852923    0.858489   0.019161\n",
       "SVM          0.833635        0.854732    0.809698   0.023668"
      ]
     },
     "execution_count": 49,
     "metadata": {},
     "output_type": "execute_result"
    }
   ],
   "source": [
    "#Dataframe de comparación\n",
    "modelos_supervisados = pd.DataFrame(Accuracy_Test,index=['tree','RF','kNN','LogReg','SVM'], columns=['Accuracy_Test'])\n",
    "modelos_supervisados['Accuracy_Train']=Accuracy_Train\n",
    "modelos_supervisados['KFold_Mean']=KFold_Mean\n",
    "modelos_supervisados['KFold_Std']=KFold_Std\n",
    "modelos_supervisados"
   ]
  },
  {
   "cell_type": "code",
   "execution_count": 50,
   "id": "5358cf33",
   "metadata": {},
   "outputs": [
    {
     "data": {
      "image/png": "[encoded data removed]",
      "text/plain": [
       "<Figure size 432x288 with 1 Axes>"
      ]
     },
     "metadata": {
      "needs_background": "light"
     },
     "output_type": "display_data"
    }
   ],
   "source": [
    "axes = modelos_supervisados[['Accuracy_Test','Accuracy_Train','KFold_Mean']].plot.bar()"
   ]
  }
 ],
 "metadata": {
  "kernelspec": {
   "display_name": "Python 3 (ipykernel)",
   "language": "python",
   "name": "python3"
  },
  "language_info": {
   "codemirror_mode": {
    "name": "ipython",
    "version": 3
   },
   "file_extension": ".py",
   "mimetype": "text/x-python",
   "name": "python",
   "nbconvert_exporter": "python",
   "pygments_lexer": "ipython3",
   "version": "3.9.7"
  }
 },
 "nbformat": 4,
 "nbformat_minor": 5
}
